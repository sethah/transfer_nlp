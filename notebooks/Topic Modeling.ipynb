{
 "cells": [
  {
   "cell_type": "code",
   "execution_count": 118,
   "metadata": {},
   "outputs": [],
   "source": [
    "%matplotlib inline\n",
    "import numpy as np\n",
    "import pandas as pd\n",
    "import matplotlib.pyplot as plt\n",
    "from pathlib import Path\n",
    "import logging\n",
    "from collections import Counter\n",
    "\n",
    "import gensim\n",
    "from gensim.parsing.preprocessing import STOPWORDS\n",
    "\n",
    "import spacy\n",
    "from spacy.lemmatizer import Lemmatizer\n",
    "from spacy.lang.en import LEMMA_INDEX, LEMMA_EXC, LEMMA_RULES\n",
    "\n",
    "import torch\n",
    "from torchtext import data, datasets\n",
    "\n",
    "import re\n",
    "import html\n",
    "re1 = re.compile(r'  +')"
   ]
  },
  {
   "cell_type": "code",
   "execution_count": 119,
   "metadata": {},
   "outputs": [],
   "source": [
    "data_path = Path(\"../data/processed/\") / \"aclImdb\""
   ]
  },
  {
   "cell_type": "code",
   "execution_count": 120,
   "metadata": {},
   "outputs": [],
   "source": [
    "def fixup(x):\n",
    "    x = x.replace('#39;', \"'\").replace('amp;', '&').replace('#146;', \"'\").replace(\n",
    "        'nbsp;', ' ').replace('#36;', '$').replace('\\\\n', \"\\n\").replace('quot;', \"'\").replace(\n",
    "        '<br />', \"\\n\").replace('\\\\\"', '\"').replace('<unk>','u_n').replace(' @.@ ','.').replace(\n",
    "        ' @-@ ','-').replace('\\\\', ' \\\\ ')\n",
    "    return re1.sub(' ', html.unescape(x))"
   ]
  },
  {
   "cell_type": "code",
   "execution_count": 121,
   "metadata": {},
   "outputs": [],
   "source": [
    "spacy_en = spacy.load('en')\n",
    "def tokenizer(text): # create a tokenizer function\n",
    "    return [tok.lemma_ for tok in spacy_en.tokenizer(fixup(text)) if tok.text not in STOPWORDS]"
   ]
  },
  {
   "cell_type": "code",
   "execution_count": 122,
   "metadata": {},
   "outputs": [],
   "source": [
    "# ex = test_ds.examples[0]\n",
    "# for tok in spacy_en(\" \".join(ex.text)):\n",
    "#     print(tok.text, tok.lemma_)"
   ]
  },
  {
   "cell_type": "code",
   "execution_count": 123,
   "metadata": {},
   "outputs": [],
   "source": [
    "TEXT = data.Field(lower=True, include_lengths=True, batch_first=True, tokenize=tokenizer)\n",
    "LABEL = data.Field(sequential=False)\n",
    "\n",
    "# train_ds = datasets.IMDB(str(data_path / \"train\"), TEXT, LABEL)\n",
    "test_ds = datasets.IMDB(str(data_path / \"test\"), TEXT, LABEL)"
   ]
  },
  {
   "cell_type": "code",
   "execution_count": 124,
   "metadata": {},
   "outputs": [],
   "source": [
    "dictionary = gensim.corpora.Dictionary([ex.text for ex in test_ds.examples])\n",
    "dictionary.filter_extremes(no_below=20, no_above=0.2)"
   ]
  },
  {
   "cell_type": "code",
   "execution_count": 125,
   "metadata": {},
   "outputs": [
    {
     "data": {
      "text/plain": [
       "[('want', 4968),\n",
       " ('...', 4950),\n",
       " ('and', 4916),\n",
       " ('a', 4825),\n",
       " ('man', 4817),\n",
       " (\"'\", 4773),\n",
       " ('try', 4707),\n",
       " ('there', 4678),\n",
       " ('in', 4626),\n",
       " ('year', 4603)]"
      ]
     },
     "execution_count": 125,
     "metadata": {},
     "output_type": "execute_result"
    }
   ],
   "source": [
    "counts = Counter(dictionary.dfs)\n",
    "[(dictionary[i], c) for i, c in counts.most_common(10)]"
   ]
  },
  {
   "cell_type": "code",
   "execution_count": 126,
   "metadata": {},
   "outputs": [],
   "source": [
    "corpus = [dictionary.doc2bow(ex.text) for ex in test_ds.examples]\n",
    "gensim.corpora.MmCorpus.serialize('/tmp/imdb_bow.mm', corpus)"
   ]
  },
  {
   "cell_type": "code",
   "execution_count": 127,
   "metadata": {},
   "outputs": [
    {
     "name": "stdout",
     "output_type": "stream",
     "text": [
      "MmCorpus(25000 documents, 9527 features, 1772669 non-zero entries)\n"
     ]
    }
   ],
   "source": [
    "mm_corpus = gensim.corpora.MmCorpus('/tmp/imdb_bow.mm')\n",
    "print(mm_corpus)"
   ]
  },
  {
   "cell_type": "code",
   "execution_count": 128,
   "metadata": {},
   "outputs": [],
   "source": [
    "tfidf_model = gensim.models.TfidfModel(mm_corpus, id2word=dictionary)"
   ]
  },
  {
   "cell_type": "code",
   "execution_count": 129,
   "metadata": {},
   "outputs": [],
   "source": [
    "lsi_model = gensim.models.LsiModel(tfidf_model[mm_corpus], id2word=dictionary, num_topics=20)"
   ]
  },
  {
   "cell_type": "code",
   "execution_count": 130,
   "metadata": {},
   "outputs": [
    {
     "data": {
      "text/plain": [
       "[(0,\n",
       "  '0.194*\"\\'\" + 0.129*\"...\" + 0.114*\"*\" + 0.079*\";\" + 0.078*\"and\" + 0.077*\"wrong\" + 0.076*\"funny\" + 0.075*\"feel\" + 0.075*\"man\" + 0.075*\"want\"'),\n",
       " (1,\n",
       "  '-0.987*\"*\" + 0.040*\"\\'\" + -0.036*\"1/2\" + -0.032*\"spoilers\" + -0.026*\"spoiler\" + 0.018*\"...\" + 0.015*\"episode\" + 0.014*\"life\" + 0.013*\"enjoy\" + 0.013*\"series\"'),\n",
       " (2,\n",
       "  '-0.956*\"\\'\" + 0.076*\"...\" + -0.046*\"`\" + 0.040*\"guy\" + 0.040*\"wrong\" + 0.040*\"funny\" + 0.034*\"..\" + 0.033*\"horror\" + 0.032*\"stupid\" + 0.031*\"if\"'),\n",
       " (3,\n",
       "  '0.574*\"...\" + 0.206*\"..\" + 0.139*\"\\'\" + 0.127*\"wrong\" + 0.124*\"....\" + -0.113*\"--\" + 0.104*\"horror\" + -0.103*\"war\" + 0.102*\"waste\" + 0.091*\"laugh\"'),\n",
       " (4,\n",
       "  '-0.572*\"...\" + 0.385*\"&\" + 0.238*\"horror\" + -0.162*\"..\" + -0.159*\"book\" + 0.110*\"budget\" + 0.096*\"effect\" + 0.095*\"low\" + 0.091*\"wrong\" + 0.087*\"gore\"'),\n",
       " (5,\n",
       "  '-0.802*\"&\" + -0.301*\"...\" + 0.152*\"funny\" + -0.145*\"..\" + 0.123*\"episode\" + 0.113*\"laugh\" + 0.082*\"series\" + 0.071*\"wrong\" + 0.070*\"joke\" + 0.063*\"waste\"'),\n",
       " (6,\n",
       "  '0.366*\"episode\" + 0.325*\"&\" + 0.324*\"series\" + 0.275*\"funny\" + -0.223*\"horror\" + 0.183*\"comedy\" + 0.160*\"tv\" + 0.134*\"laugh\" + 0.133*\"season\" + 0.115*\"joke\"'),\n",
       " (7,\n",
       "  '0.584*\"book\" + 0.230*\"read\" + -0.213*\"funny\" + 0.163*\"series\" + 0.138*\"novel\" + -0.128*\"girl\" + -0.121*\"comedy\" + -0.120*\"kid\" + -0.118*\"guy\" + -0.108*\"--\"'),\n",
       " (8,\n",
       "  '0.383*\"episode\" + 0.357*\"series\" + -0.306*\"book\" + 0.244*\"horror\" + -0.188*\"&\" + 0.181*\"...\" + -0.172*\"funny\" + -0.140*\"--\" + -0.128*\"read\" + -0.123*\"laugh\"'),\n",
       " (9,\n",
       "  '0.780*\"..\" + -0.302*\"...\" + -0.269*\"--\" + 0.181*\"book\" + 0.109*\"horror\" + 0.089*\"kid\" + 0.087*\"girl\" + -0.066*\"&\" + -0.065*\"episode\" + 0.063*\"child\"'),\n",
       " (10,\n",
       "  '-0.305*\"--\" + -0.176*\"comedy\" + 0.172*\"episode\" + -0.163*\"..\" + 0.163*\"game\" + -0.162*\"horror\" + -0.146*\"music\" + 0.136*\"book\" + -0.136*\"funny\" + -0.134*\"performance\"'),\n",
       " (11,\n",
       "  '0.374*\"..\" + -0.340*\"horror\" + -0.321*\"book\" + -0.168*\"kid\" + 0.166*\"game\" + -0.142*\"...\" + -0.131*\"child\" + -0.123*\"girl\" + 0.114*\"war\" + -0.107*\"family\"'),\n",
       " (12,\n",
       "  '0.745*\"--\" + 0.194*\"..\" + -0.184*\"game\" + 0.175*\"episode\" + 0.158*\"book\" + -0.127*\"comedy\" + 0.124*\"series\" + -0.093*\"action\" + 0.091*\"kid\" + -0.084*\"laugh\"'),\n",
       " (13,\n",
       "  '0.756*\"game\" + 0.207*\"--\" + 0.158*\"video\" + 0.133*\"music\" + 0.129*\"kid\" + -0.113*\"comedy\" + 0.109*\"song\" + -0.104*\"episode\" + -0.096*\"funny\" + 0.079*\"fun\"'),\n",
       " (14,\n",
       "  '-0.329*\"game\" + -0.215*\"funny\" + -0.203*\"book\" + -0.195*\"comedy\" + 0.165*\"dvd\" + 0.141*\"child\" + 0.140*\"music\" + 0.132*\"kid\" + 0.132*\"family\" + 0.119*\"life\"'),\n",
       " (15,\n",
       "  '-0.260*\"horror\" + -0.239*\"game\" + 0.177*\"song\" + -0.166*\"--\" + 0.162*\"dvd\" + -0.159*\"episode\" + 0.153*\"music\" + -0.127*\"life\" + -0.125*\"feel\" + 0.114*\"action\"'),\n",
       " (16,\n",
       "  '-0.443*\"war\" + -0.163*\"german\" + -0.161*\"kid\" + -0.159*\"funny\" + -0.138*\"soldier\" + 0.128*\"woman\" + 0.122*\"episode\" + 0.119*\"role\" + 0.116*\"performance\" + -0.115*\"world\"'),\n",
       " (17,\n",
       "  '-0.326*\"action\" + 0.221*\"dvd\" + -0.207*\"kid\" + -0.177*\"vampire\" + 0.174*\"horror\" + 0.163*\"video\" + 0.151*\"war\" + 0.151*\"release\" + 0.140*\"game\" + -0.136*\"seagal\"'),\n",
       " (18,\n",
       "  '0.331*\"music\" + 0.209*\"song\" + -0.199*\"child\" + -0.192*\"kid\" + 0.180*\"episode\" + 0.164*\"dance\" + -0.159*\"family\" + 0.122*\"girl\" + -0.114*\"fi\" + -0.113*\"sci\"'),\n",
       " (19,\n",
       "  '0.364*\"war\" + -0.300*\";\" + 0.204*\"action\" + 0.156*\"vampire\" + 0.130*\"--\" + 0.118*\"seagal\" + -0.118*\"monster\" + -0.115*\"child\" + 0.115*\"fight\" + 0.113*\"recommend\"')]"
      ]
     },
     "execution_count": 130,
     "metadata": {},
     "output_type": "execute_result"
    }
   ],
   "source": [
    "lsi_model.print_topics()"
   ]
  },
  {
   "cell_type": "code",
   "execution_count": 131,
   "metadata": {},
   "outputs": [],
   "source": [
    "clipped_corpus = gensim.utils.ClippedCorpus(mm_corpus, 25000)\n",
    "lda_model = gensim.models.ldamulticore.LdaMulticore(clipped_corpus, num_topics=20, id2word=dictionary, passes=10, workers=6)"
   ]
  },
  {
   "cell_type": "code",
   "execution_count": 132,
   "metadata": {},
   "outputs": [
    {
     "data": {
      "text/plain": [
       "[(0,\n",
       "  '0.017*\"episode\" + 0.012*\"series\" + 0.006*\"--\" + 0.005*\"in\" + 0.005*\";\" + 0.005*\"show\" + 0.005*\"season\" + 0.004*\"year\" + 0.004*\"new\" + 0.003*\"child\"'),\n",
       " (1,\n",
       "  '0.005*\"\\'\" + 0.005*\"little\" + 0.004*\"director\" + 0.004*\"black\" + 0.004*\"feel\" + 0.003*\"point\" + 0.003*\"in\" + 0.003*\"style\" + 0.003*\"there\" + 0.003*\"white\"'),\n",
       " (2,\n",
       "  '0.006*\";\" + 0.006*\"performance\" + 0.005*\"man\" + 0.005*\"role\" + 0.004*\"director\" + 0.004*\"set\" + 0.004*\"woman\" + 0.004*\"in\" + 0.003*\"\\'\" + 0.003*\"cast\"'),\n",
       " (3,\n",
       "  '0.009*\"music\" + 0.007*\"song\" + 0.007*\"&\" + 0.006*\"cartoon\" + 0.005*\"kid\" + 0.005*\"video\" + 0.005*\"want\" + 0.005*\"little\" + 0.005*\"if\" + 0.004*\"year\"'),\n",
       " (4,\n",
       "  '0.006*\"series\" + 0.006*\"jack\" + 0.005*\"zombie\" + 0.005*\"sci\" + 0.005*\"fi\" + 0.004*\"alien\" + 0.004*\"star\" + 0.004*\"tv\" + 0.004*\"wrong\" + 0.004*\"original\"'),\n",
       " (5,\n",
       "  '0.014*\";\" + 0.007*\"man\" + 0.005*\"tell\" + 0.005*\"a\" + 0.005*\"in\" + 0.004*\"and\" + 0.004*\"woman\" + 0.004*\"--\" + 0.003*\"there\" + 0.003*\"moment\"'),\n",
       " (6,\n",
       "  '0.033*\"book\" + 0.012*\"read\" + 0.006*\"match\" + 0.006*\"fight\" + 0.006*\"novel\" + 0.006*\"\\'\" + 0.005*\"a\" + 0.004*\"martial\" + 0.004*\"feel\" + 0.004*\"art\"'),\n",
       " (7,\n",
       "  '0.006*\"try\" + 0.006*\"funny\" + 0.004*\"he\" + 0.004*\"little\" + 0.004*\"guy\" + 0.004*\"action\" + 0.004*\"will\" + 0.004*\"a\" + 0.004*\"if\" + 0.004*\"wrong\"'),\n",
       " (8,\n",
       "  '0.040*\"...\" + 0.010*\"funny\" + 0.009*\"wrong\" + 0.008*\"laugh\" + 0.007*\"want\" + 0.006*\"and\" + 0.006*\"if\" + 0.006*\"..\" + 0.006*\"minute\" + 0.006*\"waste\"'),\n",
       " (9,\n",
       "  '0.007*\"man\" + 0.005*\"kill\" + 0.004*\"try\" + 0.004*\"dr.\" + 0.004*\"monster\" + 0.004*\"action\" + 0.004*\"vampire\" + 0.003*\"scientist\" + 0.003*\"he\" + 0.003*\"in\"'),\n",
       " (10,\n",
       "  '0.007*\"woman\" + 0.006*\"...\" + 0.005*\"want\" + 0.005*\"guy\" + 0.004*\"\\'\" + 0.004*\"life\" + 0.004*\"kill\" + 0.004*\"and\" + 0.004*\"--\" + 0.004*\"why\"'),\n",
       " (11,\n",
       "  '0.139*\"*\" + 0.007*\"horror\" + 0.004*\"try\" + 0.004*\"scary\" + 0.004*\"wrong\" + 0.003*\"/\" + 0.003*\"spoiler\" + 0.003*\"1/2\" + 0.003*\"man\" + 0.003*\"2\"'),\n",
       " (12,\n",
       "  '0.105*\"\\'\" + 0.004*\"man\" + 0.004*\"dog\" + 0.004*\"and\" + 0.004*\"little\" + 0.003*\"feel\" + 0.003*\"there\" + 0.003*\"star\" + 0.003*\"try\" + 0.003*\";\"'),\n",
       " (13,\n",
       "  '0.005*\"police\" + 0.005*\"pretty\" + 0.004*\"version\" + 0.004*\"cop\" + 0.004*\"man\" + 0.004*\"prison\" + 0.004*\"murder\" + 0.004*\"sex\" + 0.004*\"a\" + 0.004*\"little\"'),\n",
       " (14,\n",
       "  '0.009*\"wrong\" + 0.006*\"\\'\" + 0.005*\"and\" + 0.005*\"actually\" + 0.005*\"guy\" + 0.004*\"write\" + 0.004*\"script\" + 0.004*\"want\" + 0.004*\"terrible\" + 0.004*\"try\"'),\n",
       " (15,\n",
       "  '0.006*\"feel\" + 0.006*\"life\" + 0.005*\"and\" + 0.004*\"a\" + 0.004*\"in\" + 0.004*\"gay\" + 0.004*\"sex\" + 0.004*\"comedy\" + 0.004*\"man\" + 0.004*\"if\"'),\n",
       " (16,\n",
       "  '0.007*\"life\" + 0.006*\"year\" + 0.005*\"girl\" + 0.005*\"young\" + 0.005*\"family\" + 0.005*\"feel\" + 0.004*\"friend\" + 0.004*\"he\" + 0.004*\"live\" + 0.004*\"dance\"'),\n",
       " (17,\n",
       "  '0.013*\"horror\" + 0.006*\"game\" + 0.005*\"kill\" + 0.005*\"gore\" + 0.004*\"effect\" + 0.004*\"girl\" + 0.004*\"lot\" + 0.004*\"and\" + 0.004*\"old\" + 0.004*\"pretty\"'),\n",
       " (18,\n",
       "  '0.010*\"war\" + 0.007*\"world\" + 0.006*\"life\" + 0.005*\"man\" + 0.004*\"german\" + 0.004*\"live\" + 0.004*\"music\" + 0.004*\"american\" + 0.004*\"year\" + 0.003*\"performance\"'),\n",
       " (19,\n",
       "  '0.027*\"&\" + 0.007*\"comedy\" + 0.007*\";\" + 0.005*\"funny\" + 0.005*\"\\'\" + 0.004*\"train\" + 0.004*\"cast\" + 0.004*\"bond\" + 0.004*\"star\" + 0.004*\"young\"')]"
      ]
     },
     "execution_count": 132,
     "metadata": {},
     "output_type": "execute_result"
    }
   ],
   "source": [
    "lda_model.print_topics()"
   ]
  },
  {
   "cell_type": "code",
   "execution_count": null,
   "metadata": {},
   "outputs": [],
   "source": []
  }
 ],
 "metadata": {
  "kernelspec": {
   "display_name": "Python [conda env:nlp_fun]",
   "language": "python",
   "name": "conda-env-nlp_fun-py"
  },
  "language_info": {
   "codemirror_mode": {
    "name": "ipython",
    "version": 3
   },
   "file_extension": ".py",
   "mimetype": "text/x-python",
   "name": "python",
   "nbconvert_exporter": "python",
   "pygments_lexer": "ipython3",
   "version": "3.6.6"
  }
 },
 "nbformat": 4,
 "nbformat_minor": 2
}
