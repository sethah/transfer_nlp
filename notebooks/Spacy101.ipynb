{
 "cells": [
  {
   "cell_type": "code",
   "execution_count": 2,
   "metadata": {},
   "outputs": [],
   "source": [
    "%matplotlib inline\n",
    "import numpy as np\n",
    "import pandas as pd\n",
    "import matplotlib.pyplot as plt\n",
    "from pathlib import Path\n",
    "\n",
    "import spacy\n",
    "\n",
    "import torch\n",
    "from torchtext import data, datasets"
   ]
  },
  {
   "cell_type": "code",
   "execution_count": 3,
   "metadata": {},
   "outputs": [],
   "source": [
    "data_path = Path(\"../data/processed/\") / \"aclImdb\""
   ]
  },
  {
   "cell_type": "code",
   "execution_count": 5,
   "metadata": {},
   "outputs": [],
   "source": [
    "spacy_en = spacy.load('en')\n",
    "def tokenizer(text): # create a tokenizer function\n",
    "    return [tok.text for tok in spacy_en.tokenizer(text)]"
   ]
  },
  {
   "cell_type": "code",
   "execution_count": 14,
   "metadata": {},
   "outputs": [],
   "source": [
    "TEXT = data.Field(lower=True, include_lengths=True, batch_first=True)\n",
    "LABEL = data.Field(sequential=False)\n",
    "\n",
    "train_ds = datasets.IMDB(str(data_path / \"train\"), TEXT, LABEL)\n",
    "test_ds = datasets.IMDB(str(data_path / \"test\"), TEXT, LABEL)"
   ]
  },
  {
   "cell_type": "markdown",
   "metadata": {},
   "source": [
    "## Tokenization\n",
    "\n",
    "By default, torchtext just splits on whitespace. Compare that with the spacy tokenizer."
   ]
  },
  {
   "cell_type": "code",
   "execution_count": 17,
   "metadata": {},
   "outputs": [
    {
     "data": {
      "text/plain": [
       "'bromwell high is a cartoon comedy. it ran at the same time as some other programs about school life, such as \"teachers\". my 35 years in the teaching profession lead me to believe that bromwell high\\'s satire is much closer to reality than is \"teachers\". the scramble to survive financially, the insightful students who can see right through their pathetic teachers\\' pomp, the pettiness of the whole situation, all remind me of the schools i knew and their students. when i saw the episode in which a student repeatedly tried to burn down the school, i immediately recalled ......... at .......... high. a classic line: inspector: i\\'m here to sack one of your teachers. student: welcome to bromwell high. i expect that many adults of my age think that bromwell high is far fetched. what a pity that it isn\\'t!'"
      ]
     },
     "execution_count": 17,
     "metadata": {},
     "output_type": "execute_result"
    }
   ],
   "source": [
    "comment = train_ds.examples[0].text\n",
    "comment_text = \" \".join(comment)\n",
    "comment_text"
   ]
  },
  {
   "cell_type": "code",
   "execution_count": 20,
   "metadata": {},
   "outputs": [
    {
     "data": {
      "text/plain": [
       "'bromwell high is a cartoon comedy . it ran at the same time as some other programs about school life , such as \" teachers \" . my 35 years in the teaching profession lead me to believe that bromwell high \\'s satire is much closer to reality than is \" teachers \" . the scramble to survive financially , the insightful students who can see right through their pathetic teachers \\' pomp , the pettiness of the whole situation , all remind me of the schools i knew and their students . when i saw the episode in which a student repeatedly tried to burn down the school , i immediately recalled ......... at .......... high . a classic line : inspector : i \\'m here to sack one of your teachers . student : welcome to bromwell high . i expect that many adults of my age think that bromwell high is far fetched . what a pity that it is n\\'t !'"
      ]
     },
     "execution_count": 20,
     "metadata": {},
     "output_type": "execute_result"
    }
   ],
   "source": [
    "doc = spacy_en(comment_text)\n",
    "\" \".join([tok.text for tok in doc])"
   ]
  },
  {
   "cell_type": "markdown",
   "metadata": {},
   "source": [
    "The spacy tokenizer splits out punctuation, apostrophes, quotations, etc. This has the effect that '\"teachers\"' and 'teachers' are the same token. The quotations marks are still preserved so that a model could still take this context into account."
   ]
  },
  {
   "cell_type": "markdown",
   "metadata": {},
   "source": [
    "With spacy, we can get the part of speech of each word. See that it incorrectly identifies the proper noun Bromwell high."
   ]
  },
  {
   "cell_type": "code",
   "execution_count": 21,
   "metadata": {},
   "outputs": [
    {
     "name": "stdout",
     "output_type": "stream",
     "text": [
      "bromwell VERB\n",
      "high ADJ\n",
      "is VERB\n",
      "a DET\n",
      "cartoon NOUN\n",
      "comedy NOUN\n",
      ". PUNCT\n",
      "it PRON\n",
      "ran VERB\n",
      "at ADP\n",
      "the DET\n",
      "same ADJ\n",
      "time NOUN\n",
      "as ADP\n",
      "some DET\n",
      "other ADJ\n",
      "programs NOUN\n",
      "about ADP\n",
      "school NOUN\n",
      "life NOUN\n"
     ]
    }
   ],
   "source": [
    "for token in doc[:20]:\n",
    "    print(token.text, token.pos_)"
   ]
  },
  {
   "cell_type": "code",
   "execution_count": 22,
   "metadata": {},
   "outputs": [
    {
     "name": "stdout",
     "output_type": "stream",
     "text": [
      "a cartoon comedy\n",
      "it\n",
      "the same time\n",
      "some other programs\n",
      "school life\n",
      "\"teachers\n",
      "my 35 years\n",
      "the teaching profession\n",
      "me\n",
      "bromwell high's satire\n",
      "reality\n",
      "teachers\n",
      "the scramble\n",
      "the insightful students\n",
      "who\n",
      "their pathetic teachers' pomp\n",
      "the pettiness\n",
      "the whole situation\n",
      "me\n",
      "the schools\n",
      "i\n",
      "their students\n",
      "i\n",
      "the episode\n",
      "a student\n",
      "the school\n",
      "i\n",
      "a classic line\n",
      "inspector\n",
      "i\n",
      "your teachers\n",
      "student\n",
      "i\n",
      "many adults\n",
      "my age\n",
      "what a pity\n",
      "it\n"
     ]
    }
   ],
   "source": [
    "for chunk in doc.noun_chunks:\n",
    "    print(chunk.text)"
   ]
  },
  {
   "cell_type": "code",
   "execution_count": 23,
   "metadata": {},
   "outputs": [
    {
     "name": "stdout",
     "output_type": "stream",
     "text": [
      "35 years\n",
      "one\n"
     ]
    }
   ],
   "source": [
    "for ent in doc.ents:\n",
    "    print(ent.text)"
   ]
  },
  {
   "cell_type": "code",
   "execution_count": 29,
   "metadata": {},
   "outputs": [],
   "source": [
    "sent = \"I love to go to new york city\"\n",
    "doc = spacy_en(sent)\n",
    "for ent in doc.ents:\n",
    "    print(ent.text)"
   ]
  },
  {
   "cell_type": "code",
   "execution_count": 31,
   "metadata": {},
   "outputs": [],
   "source": [
    "vocab = spacy_en.vocab"
   ]
  },
  {
   "cell_type": "code",
   "execution_count": 33,
   "metadata": {},
   "outputs": [
    {
     "data": {
      "text/plain": [
       "58635"
      ]
     },
     "execution_count": 33,
     "metadata": {},
     "output_type": "execute_result"
    }
   ],
   "source": [
    "vocab.length"
   ]
  },
  {
   "cell_type": "code",
   "execution_count": 37,
   "metadata": {},
   "outputs": [],
   "source": [
    "vectors = vocab.vectors"
   ]
  },
  {
   "cell_type": "code",
   "execution_count": 51,
   "metadata": {},
   "outputs": [
    {
     "data": {
      "text/plain": [
       "True"
      ]
     },
     "execution_count": 51,
     "metadata": {},
     "output_type": "execute_result"
    }
   ],
   "source": [
    "'Boise' in vocab"
   ]
  },
  {
   "cell_type": "markdown",
   "metadata": {},
   "source": [
    "## NER\n",
    "\n",
    "How is it done?\n",
    "\n",
    "How would I train my own?\n",
    "\n"
   ]
  },
  {
   "cell_type": "markdown",
   "metadata": {},
   "source": [
    "## Lemmatization\n",
    "\n",
    "## POS Tagging\n",
    "\n",
    "\n",
    "## Sentiment\n",
    "\n",
    "## Topic Modeling"
   ]
  },
  {
   "cell_type": "code",
   "execution_count": null,
   "metadata": {},
   "outputs": [],
   "source": []
  }
 ],
 "metadata": {
  "kernelspec": {
   "display_name": "Python [conda env:nlp_fun]",
   "language": "python",
   "name": "conda-env-nlp_fun-py"
  },
  "language_info": {
   "codemirror_mode": {
    "name": "ipython",
    "version": 3
   },
   "file_extension": ".py",
   "mimetype": "text/x-python",
   "name": "python",
   "nbconvert_exporter": "python",
   "pygments_lexer": "ipython3",
   "version": "3.6.6"
  }
 },
 "nbformat": 4,
 "nbformat_minor": 2
}
