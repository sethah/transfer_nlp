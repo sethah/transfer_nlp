{
 "cells": [
  {
   "cell_type": "code",
   "execution_count": 125,
   "metadata": {},
   "outputs": [],
   "source": [
    "%matplotlib inline\n",
    "import numpy as np\n",
    "import pandas as pd\n",
    "import matplotlib.pyplot as plt\n",
    "from pathlib import Path\n",
    "import logging\n",
    "from collections import Counter\n",
    "from collections import defaultdict\n",
    "\n",
    "import gensim\n",
    "from gensim.parsing.preprocessing import STOPWORDS\n",
    "\n",
    "import spacy\n",
    "from spacy.lemmatizer import Lemmatizer\n",
    "from spacy.lang.en import LEMMA_INDEX, LEMMA_EXC, LEMMA_RULES\n",
    "\n",
    "import torch\n",
    "from torchtext import data, datasets\n",
    "\n",
    "import re\n",
    "import html\n",
    "re1 = re.compile(r'  +')"
   ]
  },
  {
   "cell_type": "code",
   "execution_count": 2,
   "metadata": {},
   "outputs": [],
   "source": [
    "def fixup(x):\n",
    "    x = x.replace('#39;', \"'\").replace('amp;', '&').replace('#146;', \"'\").replace(\n",
    "        'nbsp;', ' ').replace('#36;', '$').replace('\\\\n', \"\\n\").replace('quot;', \"'\").replace(\n",
    "        '<br />', \"\\n\").replace('\\\\\"', '\"').replace('<unk>','u_n').replace(' @.@ ','.').replace(\n",
    "        ' @-@ ','-').replace('\\\\', ' \\\\ ')\n",
    "    return re1.sub(' ', html.unescape(x))"
   ]
  },
  {
   "cell_type": "code",
   "execution_count": 3,
   "metadata": {},
   "outputs": [],
   "source": [
    "data_path = Path(\"../data/processed/\") / \"aclImdb\""
   ]
  },
  {
   "cell_type": "code",
   "execution_count": 4,
   "metadata": {},
   "outputs": [],
   "source": [
    "spacy_en = spacy.load('en')\n",
    "def tokenizer(text): # create a tokenizer function\n",
    "    return [tok.lemma_ for tok in spacy_en.tokenizer(fixup(text)) if tok.text not in STOPWORDS]"
   ]
  },
  {
   "cell_type": "code",
   "execution_count": 5,
   "metadata": {},
   "outputs": [],
   "source": [
    "TEXT = data.Field(lower=True, include_lengths=True, batch_first=True, tokenize=tokenizer)\n",
    "LABEL = data.Field(sequential=False)\n",
    "\n",
    "# train_ds = datasets.IMDB(str(data_path / \"train\"), TEXT, LABEL)\n",
    "test_ds = datasets.IMDB(str(data_path / \"test\"), TEXT, LABEL)"
   ]
  },
  {
   "cell_type": "code",
   "execution_count": null,
   "metadata": {},
   "outputs": [],
   "source": [
    "0.2"
   ]
  },
  {
   "cell_type": "code",
   "execution_count": 71,
   "metadata": {},
   "outputs": [
    {
     "name": "stdout",
     "output_type": "stream",
     "text": [
      "72044\n"
     ]
    }
   ],
   "source": [
    "dictionary = gensim.corpora.Dictionary([ex.text for ex in test_ds.examples])\n",
    "# dictionary.filter_extremes(no_below=500, no_above=0.2)\n",
    "corpus = [dictionary.doc2bow(ex.text) for ex in test_ds.examples]\n",
    "tfidf_model = gensim.models.TfidfModel(corpus, id2word=dictionary)\n",
    "print(len(dictionary))"
   ]
  },
  {
   "cell_type": "code",
   "execution_count": 72,
   "metadata": {},
   "outputs": [
    {
     "data": {
      "image/png": "[encoded data removed]",
      "text/plain": [
       "<Figure size 432x288 with 1 Axes>"
      ]
     },
     "metadata": {
      "needs_background": "light"
     },
     "output_type": "display_data"
    }
   ],
   "source": [
    "plt.hist(np.log([v for k, v in tfidf_model.dfs.items()]), bins=30);"
   ]
  },
  {
   "cell_type": "code",
   "execution_count": 81,
   "metadata": {},
   "outputs": [
    {
     "name": "stdout",
     "output_type": "stream",
     "text": [
      "2875\n"
     ]
    }
   ],
   "source": [
    "dictionary = gensim.corpora.Dictionary([ex.text for ex in test_ds.examples])\n",
    "dictionary.filter_extremes(no_below=100, no_above=0.05)\n",
    "corpus = [dictionary.doc2bow(ex.text) for ex in test_ds.examples]\n",
    "tfidf_model = gensim.models.TfidfModel(corpus, id2word=dictionary)\n",
    "print(len(dictionary))"
   ]
  },
  {
   "cell_type": "code",
   "execution_count": 82,
   "metadata": {},
   "outputs": [
    {
     "data": {
      "image/png": "[encoded data removed]",
      "text/plain": [
       "<Figure size 432x288 with 1 Axes>"
      ]
     },
     "metadata": {
      "needs_background": "light"
     },
     "output_type": "display_data"
    }
   ],
   "source": [
    "plt.hist(np.log([v for k, v in tfidf_model.dfs.items()]), bins=30);"
   ]
  },
  {
   "cell_type": "code",
   "execution_count": 83,
   "metadata": {},
   "outputs": [
    {
     "data": {
      "text/plain": [
       "[('anti', 0.318891792937833),\n",
       " ('emotional', 0.2976598209655677),\n",
       " ('metaphor', 0.21835526371846756),\n",
       " ('divide', 0.21608670397364427),\n",
       " ('reel', 0.21290988970788643),\n",
       " ('happiness', 0.21092502659998008),\n",
       " (\"don't\", 0.20635804106142905),\n",
       " ('mirror', 0.19855080805862926),\n",
       " ('nose', 0.1962560076579633),\n",
       " ('largely', 0.1932510818831198)]"
      ]
     },
     "execution_count": 83,
     "metadata": {},
     "output_type": "execute_result"
    }
   ],
   "source": [
    "idx = 701\n",
    "sorted([(dictionary[k], v) for k, v in tfidf_model[corpus[idx]]], key=lambda k: -k[1])[:10]"
   ]
  },
  {
   "cell_type": "code",
   "execution_count": 60,
   "metadata": {},
   "outputs": [
    {
     "data": {
      "text/plain": [
       "\"as haneke film , decision -- don't sway read interest medium film unique end , . isabelle huppert stun film -- combine haneke , pull punch . haneke reel lure golden boy , benoit magimel , anti - romance funny games anti - thriller . -pron- will force watch catharsis range sustain anxiety kind emotional release have incredibly nervy think provoke ; haneke continue hold mirror desensitise western civilization . people turn nose have take solondz happiness step . while ground reality , erika ( huppert ) view emotional metaphor . -pron- be recommend i not dissuade ... definitely divide people give have largely repression -- have surprise .\""
      ]
     },
     "execution_count": 60,
     "metadata": {},
     "output_type": "execute_result"
    }
   ],
   "source": [
    "\" \".join(test_ds.examples[idx].text)"
   ]
  },
  {
   "cell_type": "code",
   "execution_count": 84,
   "metadata": {},
   "outputs": [],
   "source": [
    "clipped_corpus = gensim.utils.ClippedCorpus(corpus, 25000)\n",
    "lda_model = gensim.models.ldamulticore.LdaMulticore(clipped_corpus, num_topics=20, id2word=dictionary, passes=10, workers=6)"
   ]
  },
  {
   "cell_type": "code",
   "execution_count": 86,
   "metadata": {},
   "outputs": [],
   "source": [
    "# lda_model.print_topics()"
   ]
  },
  {
   "cell_type": "code",
   "execution_count": 93,
   "metadata": {},
   "outputs": [],
   "source": [
    "bow_vector = dictionary.doc2bow(tokenizer(\"hi there movie nice horror film hitchcock\"))"
   ]
  },
  {
   "cell_type": "code",
   "execution_count": 147,
   "metadata": {},
   "outputs": [
    {
     "data": {
      "text/plain": [
       "'i like film -pron- be glad have available finally dvd viewer i tell year . story high school virgin name gary ( lawrence monoson ) work pizza place delivery boy hang friend david ( joe rubbo ) rick ( steve antin ) . gary notice karen ( diane franklin ) new girl school morning give ride time totally love . that night party have rick karen jealous well friend not tell true feeling . \\n\\n * * * * * spoiler alert * * * * * \\n\\n rick ask gary borrow grandmothers vacant home gary make excuse rick can not karen . but night rick brag gary nail football field gary enrage . a day late school library gary have rick karen argue ask karen wrong . she tell have pregnant rick dump . gary help take grandmothers home pay abortion . finally , gary tell karen feel receptive feeling late birthday party walk karen rick . gary drive girl ! this film end realistic version life . no matt nice not necessarily girl . \\n\\n this film direct boaz davidson pretty competent action film director thing right movie . first , sure plenty gratuitous nudity marketable young male usually film . secondly , film end young gary karen i think male audience relate screw matt hard try win girl heart . yes , film silly exploitive funny sexy . actress louisa moritz steal film sexy carmela . moritz popular \" b \" level actress remember \" one flew over the cuckoo have nest \" . like \" fast times ridgemont high \" good soundtrack song play reflect go story . but heart film good performance monoson franklin . there nudity require franklin convey sorrow young girl get dump crucial time . -pron- have good actress natural charm evident film . but monoson have story can not help feel guy . when film end have performance stay . -pron- have solid job act make teen sex comedy . even silly scenario teen try sex film manage achieve want . underrated comedy hit bullseye .'"
      ]
     },
     "execution_count": 147,
     "metadata": {},
     "output_type": "execute_result"
    }
   ],
   "source": [
    "idx = 500\n",
    "\" \".join(test_ds.examples[idx].text)"
   ]
  },
  {
   "cell_type": "code",
   "execution_count": 148,
   "metadata": {},
   "outputs": [
    {
     "data": {
      "text/plain": [
       "[(3, 0.23084733),\n",
       " (4, 0.22997618),\n",
       " (8, 0.11202479),\n",
       " (11, 0.16568269),\n",
       " (14, 0.013028879),\n",
       " (16, 0.24177344)]"
      ]
     },
     "execution_count": 148,
     "metadata": {},
     "output_type": "execute_result"
    }
   ],
   "source": [
    "lda_vector = lda_model[corpus[idx]]\n",
    "lda_vector"
   ]
  },
  {
   "cell_type": "code",
   "execution_count": 149,
   "metadata": {},
   "outputs": [],
   "source": [
    "topic_words = defaultdict(list)\n",
    "for tok in set(test_ds.examples[idx].text):\n",
    "    if tok in dictionary.token2id:\n",
    "        tok_topics = sorted(lda_model.get_term_topics(dictionary.token2id[tok], 0.000001), key=lambda x: -x[1])\n",
    "        max_topics = tok_topics[:3]\n",
    "        for topic, pct in max_topics:\n",
    "            topic_words[topic].append((tok, pct))"
   ]
  },
  {
   "cell_type": "code",
   "execution_count": 150,
   "metadata": {},
   "outputs": [
    {
     "name": "stdout",
     "output_type": "stream",
     "text": [
      "3 [('*', 0.21744148), ('spoiler', 0.0046000457), ('steve', 0.0032371876)]\n",
      "4 [('win', 0.009159933), ('pay', 0.0047139246), ('level', 0.0038643857)]\n",
      "8 [('sex', 0.0064130006), ('drive', 0.0047701164), ('nudity', 0.0034307502)]\n",
      "11 [('song', 0.015052232), ('actress', 0.0032898912), ('lawrence', 0.0013627892)]\n",
      "14 [('david', 0.003968701), ('sex', 0.003444649), ('name', 0.0033565562)]\n",
      "16 [('sex', 0.016707534), ('actress', 0.0044651655), ('teen', 0.0034611037)]\n"
     ]
    }
   ],
   "source": [
    "for topic, pct in lda_vector:\n",
    "    wrds = sorted(topic_words[topic], key=lambda x: -x[1])\n",
    "    print(topic, sorted(wrds, key=lambda k: -k[1])[:3])"
   ]
  },
  {
   "cell_type": "code",
   "execution_count": null,
   "metadata": {},
   "outputs": [],
   "source": []
  },
  {
   "cell_type": "code",
   "execution_count": null,
   "metadata": {},
   "outputs": [],
   "source": []
  }
 ],
 "metadata": {
  "kernelspec": {
   "display_name": "Python [conda env:nlp_fun]",
   "language": "python",
   "name": "conda-env-nlp_fun-py"
  },
  "language_info": {
   "codemirror_mode": {
    "name": "ipython",
    "version": 3
   },
   "file_extension": ".py",
   "mimetype": "text/x-python",
   "name": "python",
   "nbconvert_exporter": "python",
   "pygments_lexer": "ipython3",
   "version": "3.6.6"
  }
 },
 "nbformat": 4,
 "nbformat_minor": 2
}
